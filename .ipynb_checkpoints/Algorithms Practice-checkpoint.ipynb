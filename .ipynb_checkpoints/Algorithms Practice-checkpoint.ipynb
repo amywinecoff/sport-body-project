{
 "cells": [
  {
   "cell_type": "code",
   "execution_count": 7,
   "metadata": {},
   "outputs": [],
   "source": [
    "#Largest continuous sum\n",
    "\n",
    "def largest_sum(arr):\n",
    "    \n",
    "    if len(arr) < 3:\n",
    "        raise ValueError('Array must be at least of length 2.')\n",
    "        \n",
    "    max_sum = current_sum = arr[0]\n",
    "    \n",
    "    for num in arr[1:]:\n",
    "        \n",
    "        current_sum = max(current_sum+num, num)\n",
    "        #print(current_sum)\n",
    "        \n",
    "        max_sum = max(current_sum, max_sum)\n",
    "        #print(max_sum)\n",
    "        \n",
    "    return max_sum"
   ]
  },
  {
   "cell_type": "code",
   "execution_count": 8,
   "metadata": {},
   "outputs": [
    {
     "name": "stdout",
     "output_type": "stream",
     "text": [
      "7\n"
     ]
    }
   ],
   "source": [
    "l_sum = largest_sum([1,2,3,-3,4])\n",
    "print(l_sum)\n",
    "\n"
   ]
  },
  {
   "cell_type": "code",
   "execution_count": 13,
   "metadata": {},
   "outputs": [
    {
     "name": "stdout",
     "output_type": "stream",
     "text": [
      "[2, 3, 4]\n"
     ]
    }
   ],
   "source": [
    "l = [1,2,3,4]\n",
    "l.pop(0)\n",
    "print(l)"
   ]
  },
  {
   "cell_type": "code",
   "execution_count": 14,
   "metadata": {},
   "outputs": [],
   "source": [
    "class Queue(object):\n",
    "    \n",
    "    def __init__(self):\n",
    "        self.queue = []\n",
    "    \n",
    "    def enqueue(self, item):\n",
    "        self.queue.insert(0, item)\n",
    "    \n",
    "    def dequeue(self, item):\n",
    "        return self.queue.pop()\n",
    "    \n",
    "    def isEmpty(self):\n",
    "        return self.queue == []\n",
    "    \n",
    "    def size(self):\n",
    "        len(self.queue)\n",
    "    \n",
    "        "
   ]
  },
  {
   "cell_type": "code",
   "execution_count": 15,
   "metadata": {},
   "outputs": [],
   "source": [
    "q = Queue()\n",
    "q.enqueue(1)\n",
    "q.enqueue(2)\n"
   ]
  },
  {
   "cell_type": "code",
   "execution_count": 16,
   "metadata": {},
   "outputs": [],
   "source": [
    "class Deque(object):\n",
    "    \n",
    "    def __init__(self):\n",
    "        self.items = []\n",
    "    \n",
    "    def isEmpty(self):\n",
    "        return self.items == []\n",
    "    \n",
    "    def addFront(self, item):\n",
    "        self.items.insert(0, item)\n",
    "    \n",
    "    def addRear(self, item):\n",
    "        self.items.append(item)\n",
    "    \n",
    "    def removeFront(self):\n",
    "        return self.items.pop(0)\n",
    "    \n",
    "    def removeRear(self):\n",
    "        return self.items.pop()\n",
    "    \n",
    "    def size(self):\n",
    "        return len(self.items)"
   ]
  },
  {
   "cell_type": "code",
   "execution_count": 33,
   "metadata": {},
   "outputs": [],
   "source": [
    "#balance check\n",
    "\n",
    "def balance_check(s1):\n",
    "    \n",
    "    bracket_dict = {'(': ')', '{':'}', '[':']', ')': '(', '}':'{', ']':'['}\n",
    "    \n",
    "    #print(bracket_dict.keys())\n",
    "    if len(s1)%2 > 0: #If the list lenght isn't even, it's not balanced\n",
    "        return False\n",
    "    \n",
    "    s1 = list(s1)\n",
    "    print(s1)\n",
    "    \n",
    "    while len(s1) > 0:\n",
    "        rear = s1.pop()\n",
    "        front = s1.pop(0)\n",
    "        print(rear, front)\n",
    "        \n",
    "        if rear != bracket_dict[front]:\n",
    "            return False\n",
    "    \n",
    "    return True\n",
    "    \n",
    "    \n",
    "    \n",
    "    "
   ]
  },
  {
   "cell_type": "code",
   "execution_count": 36,
   "metadata": {},
   "outputs": [
    {
     "name": "stdout",
     "output_type": "stream",
     "text": [
      "dict_keys(['[', '}', '(', '{', ')', ']'])\n",
      "['[', ']', '[', ']', '[', ')']\n",
      ") [\n"
     ]
    },
    {
     "data": {
      "text/plain": [
       "False"
      ]
     },
     "execution_count": 36,
     "metadata": {},
     "output_type": "execute_result"
    }
   ],
   "source": [
    "balance_check('[][][)')"
   ]
  },
  {
   "cell_type": "code",
   "execution_count": null,
   "metadata": {},
   "outputs": [],
   "source": []
  }
 ],
 "metadata": {
  "kernelspec": {
   "display_name": "Python [conda root]",
   "language": "python",
   "name": "conda-root-py"
  },
  "language_info": {
   "codemirror_mode": {
    "name": "ipython",
    "version": 3
   },
   "file_extension": ".py",
   "mimetype": "text/x-python",
   "name": "python",
   "nbconvert_exporter": "python",
   "pygments_lexer": "ipython3",
   "version": "3.5.4"
  }
 },
 "nbformat": 4,
 "nbformat_minor": 2
}
